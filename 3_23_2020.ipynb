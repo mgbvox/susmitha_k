{
 "cells": [
  {
   "cell_type": "code",
   "execution_count": 1,
   "metadata": {},
   "outputs": [
    {
     "name": "stdout",
     "output_type": "stream",
     "text": [
      "Populating the interactive namespace from numpy and matplotlib\n",
      "INFO: Pandarallel will run on 8 workers.\n",
      "INFO: Pandarallel will use standard multiprocessing data transfer (pipe) to transfer data between the main process and workers.\n"
     ]
    }
   ],
   "source": [
    "'''\n",
    "START HERE\n",
    "'''\n",
    "%pylab inline\n",
    "import pandas as pd\n",
    "from pandarallel import pandarallel\n",
    "\n",
    "pandarallel.initialize()"
   ]
  },
  {
   "cell_type": "code",
   "execution_count": 2,
   "metadata": {},
   "outputs": [
    {
     "name": "stderr",
     "output_type": "stream",
     "text": [
      "/Users/mgbvox/opt/anaconda3/envs/ds/lib/python3.7/site-packages/IPython/core/interactiveshell.py:3063: DtypeWarning: Columns (11) have mixed types.Specify dtype option on import or set low_memory=False.\n",
      "  interactivity=interactivity, compiler=compiler, result=result)\n"
     ]
    }
   ],
   "source": [
    "data = pd.read_csv('provider_data.csv')"
   ]
  },
  {
   "cell_type": "code",
   "execution_count": 3,
   "metadata": {},
   "outputs": [
    {
     "name": "stderr",
     "output_type": "stream",
     "text": [
      "/Users/mgbvox/opt/anaconda3/envs/ds/lib/python3.7/site-packages/ipykernel_launcher.py:31: SettingWithCopyWarning: \n",
      "A value is trying to be set on a copy of a slice from a DataFrame.\n",
      "Try using .loc[row_indexer,col_indexer] = value instead\n",
      "\n",
      "See the caveats in the documentation: https://pandas.pydata.org/pandas-docs/stable/user_guide/indexing.html#returning-a-view-versus-a-copy\n"
     ]
    }
   ],
   "source": [
    "def consolidate_specialties(s):\n",
    "    if specialty_map.get(s):\n",
    "        return specialty_map[s]\n",
    "    return s\n",
    "\n",
    "similarSpecialtyDescrs = [(\"Dentist\", \"Oral & Maxillofacial Surgery\"),\n",
    "                          (\"Radiology\", \"Radiologic Technologist\"),\n",
    "                          (\"Assistant, Podiatric\", \"Podiatrist\"),\n",
    "                          (\"Ophthalmology\", \"Optometrist\"),\n",
    "                          (\"Physical Therapist\", \"Massage Therapist\", \"Physical Therapy Assistant\",\\\n",
    "                           \"Mechanotherapist\", \"Rehabilitation Practitioner\", \"Rehabilitation Hospital\", \"Chiropractor\"),\n",
    "                          (\"Psychiatric Unit\", \"Psychoanalyst\", \"Psychiatric Hospital\", \"Psychiatry & Neurology\", \"Psychologist\", \"Behavioral Analyst\"),\n",
    "                          (\"Pathology\", \"Technician, Pathology\", \"Spec/Tech, Pathology\"),\n",
    "                          (\"Pain Medicine\", \"Nurse Anesthetist, Certified Registered\",\\\n",
    "                           \"Anesthesiologist Assistant\", \"Anesthesiology\")]\n",
    "\n",
    "\n",
    "specialty_map = dict()\n",
    "for t in similarSpecialtyDescrs:\n",
    "    first = t[0]\n",
    "    remainder = t[1:]\n",
    "    for val in remainder:\n",
    "        specialty_map[val] = first\n",
    "        \n",
    "        \n",
    "specialtyDescrs = [\"Dermatology\", \"Otolaryngology\", \"Plastic Surgery\", \"Ophthalmology\",\n",
    "                   \"Radiology\", \"Pathology\",  \"Physical Therapist\" ]\n",
    "\n",
    "paper_data = data[['npi','provider_type','hcpcs_code','bene_day_srvc_cnt']]\n",
    "\n",
    "paper_data['provider_type'] = paper_data.provider_type.parallel_apply(consolidate_specialties)"
   ]
  },
  {
   "cell_type": "code",
   "execution_count": 4,
   "metadata": {},
   "outputs": [],
   "source": [
    "def in_desc(x):\n",
    "    try:\n",
    "        b = x in specialtyDescrs\n",
    "        return b\n",
    "    except:\n",
    "        return False"
   ]
  },
  {
   "cell_type": "code",
   "execution_count": 5,
   "metadata": {},
   "outputs": [],
   "source": [
    "provider_data = paper_data[paper_data['provider_type'].parallel_apply(in_desc)]"
   ]
  },
  {
   "cell_type": "code",
   "execution_count": 22,
   "metadata": {},
   "outputs": [],
   "source": [
    "'''\n",
    "Get codes that are relatively unique to single/small groups of provider types\n",
    "'''\n",
    "\n",
    "shared_hcpcs_threshold = 3\n",
    "\n",
    "code_provider_crossover = data.groupby('hcpcs_code').provider_type.nunique()\n",
    "provider_unique_codes = code_provider_crossover[code_provider_crossover<shared_hcpcs_threshold].index\n",
    "\n",
    "provider_data = provider_data[provider_data.hcpcs_code.apply(lambda x: x in provider_unique_codes)]"
   ]
  },
  {
   "cell_type": "code",
   "execution_count": 23,
   "metadata": {},
   "outputs": [],
   "source": [
    "provider_data['provider_type_oh'] = pd.get_dummies(provider_data.provider_type).parallel_apply(lambda x: np.array(x), axis=1)\n",
    "provider_data['hcpcs_code_oh'] = pd.get_dummies(provider_data.hcpcs_code).parallel_apply(lambda x: np.array(x), axis=1)"
   ]
  },
  {
   "cell_type": "code",
   "execution_count": 24,
   "metadata": {},
   "outputs": [],
   "source": [
    "procedures_by_discipline = provider_data.groupby('provider_type')['hcpcs_code'].unique()"
   ]
  },
  {
   "cell_type": "code",
   "execution_count": 25,
   "metadata": {},
   "outputs": [],
   "source": [
    "def sum_oh(g):\n",
    "    return np.stack(g, axis=0).sum(0)"
   ]
  },
  {
   "cell_type": "code",
   "execution_count": 26,
   "metadata": {},
   "outputs": [],
   "source": [
    "from sklearn.metrics.pairwise import cosine_similarity\n",
    "\n",
    "cpi_vec = provider_data.groupby('npi')['hcpcs_code_oh'].apply(sum_oh)\n",
    "\n",
    "sims = cosine_similarity(pd.DataFrame(np.stack(cpi_vec.values, 0)))\n",
    "\n",
    "cpi_vec = cpi_vec.reset_index()"
   ]
  },
  {
   "cell_type": "code",
   "execution_count": 27,
   "metadata": {},
   "outputs": [],
   "source": [
    "import networkx as nx\n",
    "\n",
    "similar_doc_idxs = np.where(sims > .8)\n",
    "edges = np.array(list(zip(*similar_doc_idxs)))\n",
    "\n",
    "#idxs = np.random.choice(len(edges), 1000)\n",
    "#r_edgs = edges[idxs]\n",
    "\n",
    "g = nx.Graph()\n",
    "\n",
    "g.add_edges_from(edges)"
   ]
  },
  {
   "cell_type": "code",
   "execution_count": 28,
   "metadata": {},
   "outputs": [
    {
     "name": "stdout",
     "output_type": "stream",
     "text": [
      "Requirement already satisfied: tqdm in /Users/mgbvox/opt/anaconda3/envs/ds/lib/python3.7/site-packages (4.43.0)\n"
     ]
    }
   ],
   "source": [
    "!pip install tqdm"
   ]
  },
  {
   "cell_type": "code",
   "execution_count": 29,
   "metadata": {},
   "outputs": [],
   "source": [
    "from tqdm import tqdm"
   ]
  },
  {
   "cell_type": "code",
   "execution_count": 30,
   "metadata": {},
   "outputs": [],
   "source": [
    "npi_to_type = provider_data.groupby('npi')['provider_type'].unique()"
   ]
  },
  {
   "cell_type": "code",
   "execution_count": 31,
   "metadata": {},
   "outputs": [
    {
     "name": "stderr",
     "output_type": "stream",
     "text": [
      "100%|██████████| 6934/6934 [00:01<00:00, 4669.92it/s]\n"
     ]
    }
   ],
   "source": [
    "personalization_dict = dict()\n",
    "pos = .8\n",
    "neg = 1-pos\n",
    "\n",
    "provider_type = 'Ophthalmology'\n",
    "\n",
    "for n in tqdm(list(g.nodes)):\n",
    "    npi = cpi_vec.iloc[n]['npi']\n",
    "    type_ = npi_to_type[npi][0]\n",
    "    if type_ == provider_type:\n",
    "        personalization_dict[n] = pos\n",
    "    else:\n",
    "        personalization_dict[n] = neg\n",
    "        "
   ]
  },
  {
   "cell_type": "code",
   "execution_count": 32,
   "metadata": {},
   "outputs": [],
   "source": [
    "#For provider_type = 'Ophthalmology'\n",
    "\n",
    "provider_pagerank = nx.pagerank(g, personalization=personalization_dict)\n",
    "\n",
    "sorted_rank = sorted(provider_pagerank, key=lambda x: provider_pagerank[x])"
   ]
  },
  {
   "cell_type": "code",
   "execution_count": 33,
   "metadata": {},
   "outputs": [
    {
     "name": "stderr",
     "output_type": "stream",
     "text": [
      "100%|██████████| 6934/6934 [00:01<00:00, 4554.53it/s]\n"
     ]
    }
   ],
   "source": [
    "result = []\n",
    "for n, score in tqdm(provider_pagerank.items()):\n",
    "    #type_ = cpi_vec.iloc[pid]['provider_type']\n",
    "    npi = cpi_vec.iloc[n]['npi']\n",
    "    type_ = npi_to_type[npi][0]\n",
    "    result.append((score, type_, n, npi))"
   ]
  },
  {
   "cell_type": "code",
   "execution_count": 34,
   "metadata": {},
   "outputs": [],
   "source": [
    "opth = pd.DataFrame.from_records(sorted(result)[::-1])"
   ]
  },
  {
   "cell_type": "code",
   "execution_count": 35,
   "metadata": {},
   "outputs": [],
   "source": [
    "opth.columns = ['ppr_score', 'specialty', 'node_idx', 'npi']"
   ]
  },
  {
   "cell_type": "code",
   "execution_count": 36,
   "metadata": {},
   "outputs": [
    {
     "data": {
      "text/html": [
       "<div>\n",
       "<style scoped>\n",
       "    .dataframe tbody tr th:only-of-type {\n",
       "        vertical-align: middle;\n",
       "    }\n",
       "\n",
       "    .dataframe tbody tr th {\n",
       "        vertical-align: top;\n",
       "    }\n",
       "\n",
       "    .dataframe thead th {\n",
       "        text-align: right;\n",
       "    }\n",
       "</style>\n",
       "<table border=\"1\" class=\"dataframe\">\n",
       "  <thead>\n",
       "    <tr style=\"text-align: right;\">\n",
       "      <th></th>\n",
       "      <th>ppr_score</th>\n",
       "      <th>specialty</th>\n",
       "      <th>node_idx</th>\n",
       "      <th>npi</th>\n",
       "    </tr>\n",
       "  </thead>\n",
       "  <tbody>\n",
       "    <tr>\n",
       "      <th>3043</th>\n",
       "      <td>0.000165</td>\n",
       "      <td>Pathology</td>\n",
       "      <td>1531</td>\n",
       "      <td>1225097686</td>\n",
       "    </tr>\n",
       "    <tr>\n",
       "      <th>3044</th>\n",
       "      <td>0.000165</td>\n",
       "      <td>Pathology</td>\n",
       "      <td>710</td>\n",
       "      <td>1104865146</td>\n",
       "    </tr>\n",
       "    <tr>\n",
       "      <th>3157</th>\n",
       "      <td>0.000150</td>\n",
       "      <td>Pathology</td>\n",
       "      <td>453</td>\n",
       "      <td>1063774214</td>\n",
       "    </tr>\n",
       "    <tr>\n",
       "      <th>3158</th>\n",
       "      <td>0.000150</td>\n",
       "      <td>Pathology</td>\n",
       "      <td>3827</td>\n",
       "      <td>1548436215</td>\n",
       "    </tr>\n",
       "    <tr>\n",
       "      <th>3184</th>\n",
       "      <td>0.000147</td>\n",
       "      <td>Otolaryngology</td>\n",
       "      <td>4361</td>\n",
       "      <td>1629164967</td>\n",
       "    </tr>\n",
       "    <tr>\n",
       "      <th>...</th>\n",
       "      <td>...</td>\n",
       "      <td>...</td>\n",
       "      <td>...</td>\n",
       "      <td>...</td>\n",
       "    </tr>\n",
       "    <tr>\n",
       "      <th>6929</th>\n",
       "      <td>0.000014</td>\n",
       "      <td>Pathology</td>\n",
       "      <td>6391</td>\n",
       "      <td>1922055144</td>\n",
       "    </tr>\n",
       "    <tr>\n",
       "      <th>6930</th>\n",
       "      <td>0.000014</td>\n",
       "      <td>Pathology</td>\n",
       "      <td>45</td>\n",
       "      <td>1003865197</td>\n",
       "    </tr>\n",
       "    <tr>\n",
       "      <th>6931</th>\n",
       "      <td>0.000013</td>\n",
       "      <td>Pathology</td>\n",
       "      <td>3909</td>\n",
       "      <td>1568434876</td>\n",
       "    </tr>\n",
       "    <tr>\n",
       "      <th>6932</th>\n",
       "      <td>0.000013</td>\n",
       "      <td>Pathology</td>\n",
       "      <td>2872</td>\n",
       "      <td>1417967761</td>\n",
       "    </tr>\n",
       "    <tr>\n",
       "      <th>6933</th>\n",
       "      <td>0.000013</td>\n",
       "      <td>Pathology</td>\n",
       "      <td>5343</td>\n",
       "      <td>1770519712</td>\n",
       "    </tr>\n",
       "  </tbody>\n",
       "</table>\n",
       "<p>3158 rows × 4 columns</p>\n",
       "</div>"
      ],
      "text/plain": [
       "      ppr_score       specialty  node_idx         npi\n",
       "3043   0.000165       Pathology      1531  1225097686\n",
       "3044   0.000165       Pathology       710  1104865146\n",
       "3157   0.000150       Pathology       453  1063774214\n",
       "3158   0.000150       Pathology      3827  1548436215\n",
       "3184   0.000147  Otolaryngology      4361  1629164967\n",
       "...         ...             ...       ...         ...\n",
       "6929   0.000014       Pathology      6391  1922055144\n",
       "6930   0.000014       Pathology        45  1003865197\n",
       "6931   0.000013       Pathology      3909  1568434876\n",
       "6932   0.000013       Pathology      2872  1417967761\n",
       "6933   0.000013       Pathology      5343  1770519712\n",
       "\n",
       "[3158 rows x 4 columns]"
      ]
     },
     "execution_count": 36,
     "metadata": {},
     "output_type": "execute_result"
    }
   ],
   "source": [
    "opth[opth.specialty != 'Ophthalmology']"
   ]
  },
  {
   "cell_type": "code",
   "execution_count": 39,
   "metadata": {},
   "outputs": [
    {
     "data": {
      "text/plain": [
       "1225097686"
      ]
     },
     "execution_count": 39,
     "metadata": {},
     "output_type": "execute_result"
    }
   ],
   "source": [
    "cpi_vec.iloc[1531]['npi']"
   ]
  },
  {
   "cell_type": "code",
   "execution_count": 53,
   "metadata": {},
   "outputs": [
    {
     "name": "stdout",
     "output_type": "stream",
     "text": [
      "Pap test (Pap smear)\n",
      "Evaluation of fine needle aspirate with interpretation and report\n",
      "Evaluation of fine needle aspirate with interpretation and report\n",
      "Pathology examination of tissue specimen during surgery\n"
     ]
    }
   ],
   "source": [
    "for ridx, d in data[data.npi == 1225097686].iterrows():\n",
    "    if d['hcpcs_code'] in provider_unique_codes:\n",
    "        print(d['hcpcs_description'])"
   ]
  },
  {
   "cell_type": "code",
   "execution_count": null,
   "metadata": {},
   "outputs": [],
   "source": []
  }
 ],
 "metadata": {
  "kernelspec": {
   "display_name": "Python 3",
   "language": "python",
   "name": "python3"
  },
  "language_info": {
   "codemirror_mode": {
    "name": "ipython",
    "version": 3
   },
   "file_extension": ".py",
   "mimetype": "text/x-python",
   "name": "python",
   "nbconvert_exporter": "python",
   "pygments_lexer": "ipython3",
   "version": "3.7.6"
  }
 },
 "nbformat": 4,
 "nbformat_minor": 4
}
