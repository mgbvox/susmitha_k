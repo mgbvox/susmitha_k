{
 "cells": [
  {
   "cell_type": "code",
   "execution_count": 1,
   "metadata": {},
   "outputs": [
    {
     "name": "stdout",
     "output_type": "stream",
     "text": [
      "Populating the interactive namespace from numpy and matplotlib\n",
      "INFO: Pandarallel will run on 8 workers.\n",
      "INFO: Pandarallel will use standard multiprocessing data transfer (pipe) to transfer data between the main process and workers.\n"
     ]
    }
   ],
   "source": [
    "'''\n",
    "START HERE\n",
    "'''\n",
    "%pylab inline\n",
    "import pandas as pd\n",
    "from pandarallel import pandarallel\n",
    "\n",
    "pandarallel.initialize()"
   ]
  },
  {
   "cell_type": "code",
   "execution_count": 2,
   "metadata": {},
   "outputs": [
    {
     "name": "stderr",
     "output_type": "stream",
     "text": [
      "/Users/mgbvox/opt/anaconda3/envs/ds/lib/python3.7/site-packages/IPython/core/interactiveshell.py:3063: DtypeWarning: Columns (11) have mixed types.Specify dtype option on import or set low_memory=False.\n",
      "  interactivity=interactivity, compiler=compiler, result=result)\n"
     ]
    }
   ],
   "source": [
    "data = pd.read_csv('provider_data.csv')"
   ]
  },
  {
   "cell_type": "code",
   "execution_count": 3,
   "metadata": {},
   "outputs": [
    {
     "name": "stderr",
     "output_type": "stream",
     "text": [
      "/Users/mgbvox/opt/anaconda3/envs/ds/lib/python3.7/site-packages/ipykernel_launcher.py:31: SettingWithCopyWarning: \n",
      "A value is trying to be set on a copy of a slice from a DataFrame.\n",
      "Try using .loc[row_indexer,col_indexer] = value instead\n",
      "\n",
      "See the caveats in the documentation: https://pandas.pydata.org/pandas-docs/stable/user_guide/indexing.html#returning-a-view-versus-a-copy\n"
     ]
    }
   ],
   "source": [
    "def consolidate_specialties(s):\n",
    "    if specialty_map.get(s):\n",
    "        return specialty_map[s]\n",
    "    return s\n",
    "\n",
    "similarSpecialtyDescrs = [(\"Dentist\", \"Oral & Maxillofacial Surgery\"),\n",
    "                          (\"Radiology\", \"Radiologic Technologist\"),\n",
    "                          (\"Assistant, Podiatric\", \"Podiatrist\"),\n",
    "                          (\"Ophthalmology\", \"Optometrist\"),\n",
    "                          (\"Physical Therapist\", \"Massage Therapist\", \"Physical Therapy Assistant\",\\\n",
    "                           \"Mechanotherapist\", \"Rehabilitation Practitioner\", \"Rehabilitation Hospital\", \"Chiropractor\"),\n",
    "                          (\"Psychiatric Unit\", \"Psychoanalyst\", \"Psychiatric Hospital\", \"Psychiatry & Neurology\", \"Psychologist\", \"Behavioral Analyst\"),\n",
    "                          (\"Pathology\", \"Technician, Pathology\", \"Spec/Tech, Pathology\"),\n",
    "                          (\"Pain Medicine\", \"Nurse Anesthetist, Certified Registered\",\\\n",
    "                           \"Anesthesiologist Assistant\", \"Anesthesiology\")]\n",
    "\n",
    "\n",
    "specialty_map = dict()\n",
    "for t in similarSpecialtyDescrs:\n",
    "    first = t[0]\n",
    "    remainder = t[1:]\n",
    "    for val in remainder:\n",
    "        specialty_map[val] = first\n",
    "        \n",
    "        \n",
    "specialtyDescrs = [\"Dermatology\", \"Otolaryngology\", \"Plastic Surgery\", \"Ophthalmology\",\n",
    "                   \"Radiology\", \"Pathology\",  \"Physical Therapist\" ]\n",
    "\n",
    "paper_data = data[['npi','provider_type','hcpcs_code','bene_day_srvc_cnt']]\n",
    "\n",
    "paper_data['provider_type'] = paper_data.provider_type.parallel_apply(consolidate_specialties)"
   ]
  },
  {
   "cell_type": "code",
   "execution_count": 4,
   "metadata": {},
   "outputs": [],
   "source": [
    "def in_desc(x):\n",
    "    try:\n",
    "        b = x in specialtyDescrs\n",
    "        return b\n",
    "    except:\n",
    "        return False"
   ]
  },
  {
   "cell_type": "code",
   "execution_count": 5,
   "metadata": {},
   "outputs": [],
   "source": [
    "provider_data = paper_data[paper_data['provider_type'].parallel_apply(in_desc)]"
   ]
  },
  {
   "cell_type": "code",
   "execution_count": 22,
   "metadata": {},
   "outputs": [],
   "source": [
    "'''\n",
    "Get codes that are relatively unique to single/small groups of provider types\n",
    "'''\n",
    "\n",
    "shared_hcpcs_threshold = 3\n",
    "\n",
    "code_provider_crossover = data.groupby('hcpcs_code').provider_type.nunique()\n",
    "provider_unique_codes = code_provider_crossover[code_provider_crossover<shared_hcpcs_threshold].index\n",
    "\n",
    "provider_data = provider_data[provider_data.hcpcs_code.apply(lambda x: x in provider_unique_codes)]"
   ]
  },
  {
   "cell_type": "code",
   "execution_count": 23,
   "metadata": {},
   "outputs": [],
   "source": [
    "provider_data['provider_type_oh'] = pd.get_dummies(provider_data.provider_type).parallel_apply(lambda x: np.array(x), axis=1)\n",
    "provider_data['hcpcs_code_oh'] = pd.get_dummies(provider_data.hcpcs_code).parallel_apply(lambda x: np.array(x), axis=1)"
   ]
  },
  {
   "cell_type": "code",
   "execution_count": 24,
   "metadata": {},
   "outputs": [],
   "source": [
    "procedures_by_discipline = provider_data.groupby('provider_type')['hcpcs_code'].unique()"
   ]
  },
  {
   "cell_type": "code",
   "execution_count": 25,
   "metadata": {},
   "outputs": [],
   "source": [
    "def sum_oh(g):\n",
    "    return np.stack(g, axis=0).sum(0)"
   ]
  },
  {
   "cell_type": "code",
   "execution_count": 26,
   "metadata": {},
   "outputs": [],
   "source": [
    "from sklearn.metrics.pairwise import cosine_similarity\n",
    "\n",
    "cpi_vec = provider_data.groupby('npi')['hcpcs_code_oh'].apply(sum_oh)\n",
    "\n",
    "sims = cosine_similarity(pd.DataFrame(np.stack(cpi_vec.values, 0)))\n",
    "\n",
    "cpi_vec = cpi_vec.reset_index()"
   ]
  },
  {
   "cell_type": "code",
   "execution_count": 27,
   "metadata": {},
   "outputs": [],
   "source": [
    "import networkx as nx\n",
    "\n",
    "similar_doc_idxs = np.where(sims > .8)\n",
    "edges = np.array(list(zip(*similar_doc_idxs)))\n",
    "\n",
    "#idxs = np.random.choice(len(edges), 1000)\n",
    "#r_edgs = edges[idxs]\n",
    "\n",
    "g = nx.Graph()\n",
    "\n",
    "g.add_edges_from(edges)"
   ]
  },
  {
   "cell_type": "code",
   "execution_count": 28,
   "metadata": {},
   "outputs": [
    {
     "name": "stdout",
     "output_type": "stream",
     "text": [
      "Requirement already satisfied: tqdm in /Users/mgbvox/opt/anaconda3/envs/ds/lib/python3.7/site-packages (4.43.0)\n"
     ]
    }
   ],
   "source": [
    "!pip install tqdm"
   ]
  },
  {
   "cell_type": "code",
   "execution_count": 29,
   "metadata": {},
   "outputs": [],
   "source": [
    "from tqdm import tqdm"
   ]
  },
  {
   "cell_type": "code",
   "execution_count": 30,
   "metadata": {},
   "outputs": [],
   "source": [
    "npi_to_type = provider_data.groupby('npi')['provider_type'].unique()"
   ]
  },
  {
   "cell_type": "code",
   "execution_count": 57,
   "metadata": {},
   "outputs": [],
   "source": [
    "provider_types_in_data = npi_to_type.apply(lambda x : x[0]).unique()"
   ]
  },
  {
   "cell_type": "code",
   "execution_count": 58,
   "metadata": {
    "collapsed": true,
    "jupyter": {
     "outputs_hidden": true
    }
   },
   "outputs": [
    {
     "name": "stderr",
     "output_type": "stream",
     "text": [
      " 11%|█         | 729/6934 [00:00<00:01, 3493.84it/s]"
     ]
    },
    {
     "name": "stdout",
     "output_type": "stream",
     "text": [
      "Pathology\n"
     ]
    },
    {
     "name": "stderr",
     "output_type": "stream",
     "text": [
      "100%|██████████| 6934/6934 [00:01<00:00, 4246.86it/s]\n",
      "100%|██████████| 6934/6934 [00:01<00:00, 4636.91it/s]\n",
      "  6%|▌         | 418/6934 [00:00<00:01, 4141.07it/s]"
     ]
    },
    {
     "name": "stdout",
     "output_type": "stream",
     "text": [
      "Ophthalmology\n"
     ]
    },
    {
     "name": "stderr",
     "output_type": "stream",
     "text": [
      "100%|██████████| 6934/6934 [00:01<00:00, 4532.40it/s]\n"
     ]
    },
    {
     "ename": "KeyboardInterrupt",
     "evalue": "",
     "output_type": "error",
     "traceback": [
      "\u001b[0;31m---------------------------------------------------------------------------\u001b[0m",
      "\u001b[0;31mKeyboardInterrupt\u001b[0m                         Traceback (most recent call last)",
      "\u001b[0;32m<ipython-input-58-a04c46af98cf>\u001b[0m in \u001b[0;36m<module>\u001b[0;34m\u001b[0m\n\u001b[1;32m     15\u001b[0m             \u001b[0mpersonalization_dict\u001b[0m\u001b[0;34m[\u001b[0m\u001b[0mn\u001b[0m\u001b[0;34m]\u001b[0m \u001b[0;34m=\u001b[0m \u001b[0mneg\u001b[0m\u001b[0;34m\u001b[0m\u001b[0;34m\u001b[0m\u001b[0m\n\u001b[1;32m     16\u001b[0m \u001b[0;34m\u001b[0m\u001b[0m\n\u001b[0;32m---> 17\u001b[0;31m     \u001b[0mprovider_pagerank\u001b[0m \u001b[0;34m=\u001b[0m \u001b[0mnx\u001b[0m\u001b[0;34m.\u001b[0m\u001b[0mpagerank\u001b[0m\u001b[0;34m(\u001b[0m\u001b[0mg\u001b[0m\u001b[0;34m,\u001b[0m \u001b[0mpersonalization\u001b[0m\u001b[0;34m=\u001b[0m\u001b[0mpersonalization_dict\u001b[0m\u001b[0;34m)\u001b[0m\u001b[0;34m\u001b[0m\u001b[0;34m\u001b[0m\u001b[0m\n\u001b[0m\u001b[1;32m     18\u001b[0m \u001b[0;34m\u001b[0m\u001b[0m\n\u001b[1;32m     19\u001b[0m     \u001b[0msorted_rank\u001b[0m \u001b[0;34m=\u001b[0m \u001b[0msorted\u001b[0m\u001b[0;34m(\u001b[0m\u001b[0mprovider_pagerank\u001b[0m\u001b[0;34m,\u001b[0m \u001b[0mkey\u001b[0m\u001b[0;34m=\u001b[0m\u001b[0;32mlambda\u001b[0m \u001b[0mx\u001b[0m\u001b[0;34m:\u001b[0m \u001b[0mprovider_pagerank\u001b[0m\u001b[0;34m[\u001b[0m\u001b[0mx\u001b[0m\u001b[0;34m]\u001b[0m\u001b[0;34m)\u001b[0m\u001b[0;34m\u001b[0m\u001b[0;34m\u001b[0m\u001b[0m\n",
      "\u001b[0;32m<decorator-gen-433>\u001b[0m in \u001b[0;36mpagerank\u001b[0;34m(G, alpha, personalization, max_iter, tol, nstart, weight, dangling)\u001b[0m\n",
      "\u001b[0;32m~/opt/anaconda3/envs/ds/lib/python3.7/site-packages/networkx/utils/decorators.py\u001b[0m in \u001b[0;36m_not_implemented_for\u001b[0;34m(not_implement_for_func, *args, **kwargs)\u001b[0m\n\u001b[1;32m     80\u001b[0m             \u001b[0;32mraise\u001b[0m \u001b[0mnx\u001b[0m\u001b[0;34m.\u001b[0m\u001b[0mNetworkXNotImplemented\u001b[0m\u001b[0;34m(\u001b[0m\u001b[0mmsg\u001b[0m\u001b[0;34m)\u001b[0m\u001b[0;34m\u001b[0m\u001b[0;34m\u001b[0m\u001b[0m\n\u001b[1;32m     81\u001b[0m         \u001b[0;32melse\u001b[0m\u001b[0;34m:\u001b[0m\u001b[0;34m\u001b[0m\u001b[0;34m\u001b[0m\u001b[0m\n\u001b[0;32m---> 82\u001b[0;31m             \u001b[0;32mreturn\u001b[0m \u001b[0mnot_implement_for_func\u001b[0m\u001b[0;34m(\u001b[0m\u001b[0;34m*\u001b[0m\u001b[0margs\u001b[0m\u001b[0;34m,\u001b[0m \u001b[0;34m**\u001b[0m\u001b[0mkwargs\u001b[0m\u001b[0;34m)\u001b[0m\u001b[0;34m\u001b[0m\u001b[0;34m\u001b[0m\u001b[0m\n\u001b[0m\u001b[1;32m     83\u001b[0m     \u001b[0;32mreturn\u001b[0m \u001b[0m_not_implemented_for\u001b[0m\u001b[0;34m\u001b[0m\u001b[0;34m\u001b[0m\u001b[0m\n\u001b[1;32m     84\u001b[0m \u001b[0;34m\u001b[0m\u001b[0m\n",
      "\u001b[0;32m~/opt/anaconda3/envs/ds/lib/python3.7/site-packages/networkx/algorithms/link_analysis/pagerank_alg.py\u001b[0m in \u001b[0;36mpagerank\u001b[0;34m(G, alpha, personalization, max_iter, tol, nstart, weight, dangling)\u001b[0m\n\u001b[1;32m    150\u001b[0m             \u001b[0;31m# doing a left multiply x^T=xlast^T*W\u001b[0m\u001b[0;34m\u001b[0m\u001b[0;34m\u001b[0m\u001b[0;34m\u001b[0m\u001b[0m\n\u001b[1;32m    151\u001b[0m             \u001b[0;32mfor\u001b[0m \u001b[0mnbr\u001b[0m \u001b[0;32min\u001b[0m \u001b[0mW\u001b[0m\u001b[0;34m[\u001b[0m\u001b[0mn\u001b[0m\u001b[0;34m]\u001b[0m\u001b[0;34m:\u001b[0m\u001b[0;34m\u001b[0m\u001b[0;34m\u001b[0m\u001b[0m\n\u001b[0;32m--> 152\u001b[0;31m                 \u001b[0mx\u001b[0m\u001b[0;34m[\u001b[0m\u001b[0mnbr\u001b[0m\u001b[0;34m]\u001b[0m \u001b[0;34m+=\u001b[0m \u001b[0malpha\u001b[0m \u001b[0;34m*\u001b[0m \u001b[0mxlast\u001b[0m\u001b[0;34m[\u001b[0m\u001b[0mn\u001b[0m\u001b[0;34m]\u001b[0m \u001b[0;34m*\u001b[0m \u001b[0mW\u001b[0m\u001b[0;34m[\u001b[0m\u001b[0mn\u001b[0m\u001b[0;34m]\u001b[0m\u001b[0;34m[\u001b[0m\u001b[0mnbr\u001b[0m\u001b[0;34m]\u001b[0m\u001b[0;34m[\u001b[0m\u001b[0mweight\u001b[0m\u001b[0;34m]\u001b[0m\u001b[0;34m\u001b[0m\u001b[0;34m\u001b[0m\u001b[0m\n\u001b[0m\u001b[1;32m    153\u001b[0m             \u001b[0mx\u001b[0m\u001b[0;34m[\u001b[0m\u001b[0mn\u001b[0m\u001b[0;34m]\u001b[0m \u001b[0;34m+=\u001b[0m \u001b[0mdanglesum\u001b[0m \u001b[0;34m*\u001b[0m \u001b[0mdangling_weights\u001b[0m\u001b[0;34m.\u001b[0m\u001b[0mget\u001b[0m\u001b[0;34m(\u001b[0m\u001b[0mn\u001b[0m\u001b[0;34m,\u001b[0m \u001b[0;36m0\u001b[0m\u001b[0;34m)\u001b[0m \u001b[0;34m+\u001b[0m \u001b[0;34m(\u001b[0m\u001b[0;36m1.0\u001b[0m \u001b[0;34m-\u001b[0m \u001b[0malpha\u001b[0m\u001b[0;34m)\u001b[0m \u001b[0;34m*\u001b[0m \u001b[0mp\u001b[0m\u001b[0;34m.\u001b[0m\u001b[0mget\u001b[0m\u001b[0;34m(\u001b[0m\u001b[0mn\u001b[0m\u001b[0;34m,\u001b[0m \u001b[0;36m0\u001b[0m\u001b[0;34m)\u001b[0m\u001b[0;34m\u001b[0m\u001b[0;34m\u001b[0m\u001b[0m\n\u001b[1;32m    154\u001b[0m         \u001b[0;31m# check convergence, l1 norm\u001b[0m\u001b[0;34m\u001b[0m\u001b[0;34m\u001b[0m\u001b[0;34m\u001b[0m\u001b[0m\n",
      "\u001b[0;31mKeyboardInterrupt\u001b[0m: "
     ]
    }
   ],
   "source": [
    "personalization_dict = dict()\n",
    "pos = .8\n",
    "neg = 1-pos\n",
    "\n",
    "non_type_hits_dict = dict()\n",
    "\n",
    "for provider_type in provider_types_in_data:\n",
    "    print(provider_type)\n",
    "    for n in tqdm(list(g.nodes)):\n",
    "        npi = cpi_vec.iloc[n]['npi']\n",
    "        type_ = npi_to_type[npi][0]\n",
    "        if type_ == provider_type:\n",
    "            personalization_dict[n] = pos\n",
    "        else:\n",
    "            personalization_dict[n] = neg\n",
    "\n",
    "    provider_pagerank = nx.pagerank(g, personalization=personalization_dict)\n",
    "\n",
    "    sorted_rank = sorted(provider_pagerank, key=lambda x: provider_pagerank[x])\n",
    "    \n",
    "    result = []\n",
    "    for n, score in tqdm(provider_pagerank.items()):\n",
    "        npi = cpi_vec.iloc[n]['npi']\n",
    "        type_ = npi_to_type[npi][0]\n",
    "        result.append((score, type_, n, npi))\n",
    "        \n",
    "    type_df = pd.DataFrame.from_records(sorted(result)[::-1])\n",
    "    type_df.columns = ['ppr_score', 'specialty', 'node_idx', 'npi']\n",
    "    non_type_hits = type_df[type_df.specialty != provider_type]\n",
    "    \n",
    "    non_type_hits_dict[provider_type] = non_type_hits"
   ]
  },
  {
   "cell_type": "code",
   "execution_count": 60,
   "metadata": {},
   "outputs": [
    {
     "data": {
      "text/html": [
       "<div>\n",
       "<style scoped>\n",
       "    .dataframe tbody tr th:only-of-type {\n",
       "        vertical-align: middle;\n",
       "    }\n",
       "\n",
       "    .dataframe tbody tr th {\n",
       "        vertical-align: top;\n",
       "    }\n",
       "\n",
       "    .dataframe thead th {\n",
       "        text-align: right;\n",
       "    }\n",
       "</style>\n",
       "<table border=\"1\" class=\"dataframe\">\n",
       "  <thead>\n",
       "    <tr style=\"text-align: right;\">\n",
       "      <th></th>\n",
       "      <th>ppr_score</th>\n",
       "      <th>specialty</th>\n",
       "      <th>node_idx</th>\n",
       "      <th>npi</th>\n",
       "    </tr>\n",
       "  </thead>\n",
       "  <tbody>\n",
       "    <tr>\n",
       "      <th>615</th>\n",
       "      <td>0.000369</td>\n",
       "      <td>Dermatology</td>\n",
       "      <td>6151</td>\n",
       "      <td>1881980738</td>\n",
       "    </tr>\n",
       "    <tr>\n",
       "      <th>1305</th>\n",
       "      <td>0.000265</td>\n",
       "      <td>Dermatology</td>\n",
       "      <td>1745</td>\n",
       "      <td>1255655205</td>\n",
       "    </tr>\n",
       "    <tr>\n",
       "      <th>1350</th>\n",
       "      <td>0.000244</td>\n",
       "      <td>Dermatology</td>\n",
       "      <td>3601</td>\n",
       "      <td>1518923374</td>\n",
       "    </tr>\n",
       "    <tr>\n",
       "      <th>1351</th>\n",
       "      <td>0.000244</td>\n",
       "      <td>Dermatology</td>\n",
       "      <td>1565</td>\n",
       "      <td>1235119298</td>\n",
       "    </tr>\n",
       "    <tr>\n",
       "      <th>1556</th>\n",
       "      <td>0.000201</td>\n",
       "      <td>Otolaryngology</td>\n",
       "      <td>4361</td>\n",
       "      <td>1629164967</td>\n",
       "    </tr>\n",
       "    <tr>\n",
       "      <th>...</th>\n",
       "      <td>...</td>\n",
       "      <td>...</td>\n",
       "      <td>...</td>\n",
       "      <td>...</td>\n",
       "    </tr>\n",
       "    <tr>\n",
       "      <th>6929</th>\n",
       "      <td>0.000020</td>\n",
       "      <td>Ophthalmology</td>\n",
       "      <td>1225</td>\n",
       "      <td>1184653495</td>\n",
       "    </tr>\n",
       "    <tr>\n",
       "      <th>6930</th>\n",
       "      <td>0.000019</td>\n",
       "      <td>Ophthalmology</td>\n",
       "      <td>4607</td>\n",
       "      <td>1669458162</td>\n",
       "    </tr>\n",
       "    <tr>\n",
       "      <th>6931</th>\n",
       "      <td>0.000019</td>\n",
       "      <td>Ophthalmology</td>\n",
       "      <td>4710</td>\n",
       "      <td>1679581581</td>\n",
       "    </tr>\n",
       "    <tr>\n",
       "      <th>6932</th>\n",
       "      <td>0.000019</td>\n",
       "      <td>Ophthalmology</td>\n",
       "      <td>1836</td>\n",
       "      <td>1275525859</td>\n",
       "    </tr>\n",
       "    <tr>\n",
       "      <th>6933</th>\n",
       "      <td>0.000019</td>\n",
       "      <td>Ophthalmology</td>\n",
       "      <td>1848</td>\n",
       "      <td>1275536971</td>\n",
       "    </tr>\n",
       "  </tbody>\n",
       "</table>\n",
       "<p>4994 rows × 4 columns</p>\n",
       "</div>"
      ],
      "text/plain": [
       "      ppr_score       specialty  node_idx         npi\n",
       "615    0.000369     Dermatology      6151  1881980738\n",
       "1305   0.000265     Dermatology      1745  1255655205\n",
       "1350   0.000244     Dermatology      3601  1518923374\n",
       "1351   0.000244     Dermatology      1565  1235119298\n",
       "1556   0.000201  Otolaryngology      4361  1629164967\n",
       "...         ...             ...       ...         ...\n",
       "6929   0.000020   Ophthalmology      1225  1184653495\n",
       "6930   0.000019   Ophthalmology      4607  1669458162\n",
       "6931   0.000019   Ophthalmology      4710  1679581581\n",
       "6932   0.000019   Ophthalmology      1836  1275525859\n",
       "6933   0.000019   Ophthalmology      1848  1275536971\n",
       "\n",
       "[4994 rows x 4 columns]"
      ]
     },
     "execution_count": 60,
     "metadata": {},
     "output_type": "execute_result"
    }
   ],
   "source": []
  },
  {
   "cell_type": "code",
   "execution_count": 71,
   "metadata": {},
   "outputs": [
    {
     "name": "stdout",
     "output_type": "stream",
     "text": [
      "Flagged procedures:\n",
      "Comprehensive surgical pathology consultation and report\n"
     ]
    }
   ],
   "source": [
    "idx_of_interest = non_type_hits_dict['Pathology'].iloc[2].node_idx\n",
    "\n",
    "npi = cpi_vec.iloc[idx_of_interest]['npi']\n",
    "\n",
    "print('Flagged procedures:')\n",
    "for ridx, d in data[data.npi == npi].iterrows():\n",
    "    if d['hcpcs_code'] in provider_unique_codes:\n",
    "        print(d['hcpcs_description'])"
   ]
  },
  {
   "cell_type": "code",
   "execution_count": null,
   "metadata": {},
   "outputs": [],
   "source": []
  }
 ],
 "metadata": {
  "kernelspec": {
   "display_name": "Python 3",
   "language": "python",
   "name": "python3"
  },
  "language_info": {
   "codemirror_mode": {
    "name": "ipython",
    "version": 3
   },
   "file_extension": ".py",
   "mimetype": "text/x-python",
   "name": "python",
   "nbconvert_exporter": "python",
   "pygments_lexer": "ipython3",
   "version": "3.7.6"
  }
 },
 "nbformat": 4,
 "nbformat_minor": 4
}
